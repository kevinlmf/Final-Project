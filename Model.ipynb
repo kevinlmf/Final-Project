{
 "cells": [
  {
   "cell_type": "code",
   "execution_count": 2,
   "id": "89cff4fa",
   "metadata": {},
   "outputs": [],
   "source": [
    "# Import necessary libraries\n",
    "import pandas as pd\n",
    "import numpy as np\n",
    "import statsmodels.api as sm\n",
    "import warnings\n",
    "from sklearn.exceptions import ConvergenceWarning\n",
    "from sklearn.model_selection import train_test_split\n",
    "from sklearn.linear_model import LinearRegression, LogisticRegression\n",
    "from sklearn.ensemble import RandomForestClassifier\n",
    "from sklearn.svm import SVC\n",
    "from xgboost import XGBClassifier\n",
    "from sklearn.metrics import classification_report, roc_auc_score\n",
    "import time\n",
    "\n",
    "\n",
    "\n"
   ]
  },
  {
   "cell_type": "code",
   "execution_count": 33,
   "id": "f180c2f4",
   "metadata": {},
   "outputs": [],
   "source": [
    "# Suppress convergence warnings\n",
    "warnings.filterwarnings(\"ignore\", category=ConvergenceWarning)"
   ]
  },
  {
   "cell_type": "code",
   "execution_count": null,
   "id": "90df7a68",
   "metadata": {},
   "outputs": [],
   "source": []
  },
  {
   "cell_type": "code",
   "execution_count": 17,
   "id": "ba80acd4",
   "metadata": {},
   "outputs": [],
   "source": [
    "# Step 1: Load datasets\n",
    "basketball_data = pd.read_csv('Basketball_Data_Preprocessed.csv')\n",
    "\n",
    "\n"
   ]
  },
  {
   "cell_type": "code",
   "execution_count": null,
   "id": "c2d842f6",
   "metadata": {},
   "outputs": [],
   "source": []
  },
  {
   "cell_type": "code",
   "execution_count": 18,
   "id": "13c211ad",
   "metadata": {},
   "outputs": [],
   "source": [
    "# Step 2: Prepare data\n",
    "# For Basketball: Create a binary classification column\n",
    "basketball_data['Injury_Binary'] = (basketball_data['Injury Count'] >= 1).astype(int)\n",
    "X_basketball = basketball_data.drop(columns=['Injury Count', 'Injury_Binary', 'Player', 'Pos', 'Tm'])\n",
    "y_basketball = basketball_data['Injury_Binary']\n",
    "X_train_b, X_test_b, y_train_b, y_test_b = train_test_split(X_basketball, y_basketball, test_size=0.2, random_state=42)"
   ]
  },
  {
   "cell_type": "code",
   "execution_count": null,
   "id": "7876853b",
   "metadata": {},
   "outputs": [],
   "source": []
  },
  {
   "cell_type": "code",
   "execution_count": 29,
   "id": "71226e98",
   "metadata": {},
   "outputs": [
    {
     "name": "stdout",
     "output_type": "stream",
     "text": [
      "                            OLS Regression Results                            \n",
      "==============================================================================\n",
      "Dep. Variable:          Injury_Binary   R-squared:                       0.080\n",
      "Model:                            OLS   Adj. R-squared:                  0.038\n",
      "Method:                 Least Squares   F-statistic:                     1.882\n",
      "Date:                Sun, 24 Nov 2024   Prob (F-statistic):            0.00822\n",
      "Time:                        22:23:03   Log-Likelihood:                -353.62\n",
      "No. Observations:                 520   AIC:                             755.2\n",
      "Df Residuals:                     496   BIC:                             857.3\n",
      "Df Model:                          23                                         \n",
      "Covariance Type:            nonrobust                                         \n",
      "==============================================================================\n",
      "                 coef    std err          t      P>|t|      [0.025      0.975]\n",
      "------------------------------------------------------------------------------\n",
      "const          0.7442      0.378      1.968      0.050       0.001       1.487\n",
      "Age            0.0073      0.006      1.249      0.212      -0.004       0.019\n",
      "G              0.0003      0.002      0.109      0.914      -0.005       0.005\n",
      "MP          2.733e-05      0.000      0.257      0.797      -0.000       0.000\n",
      "PER           -0.0127      0.036     -0.357      0.722      -0.083       0.057\n",
      "TS%           -0.5061      0.512     -0.989      0.323      -1.512       0.500\n",
      "3PAr          -0.2548      0.191     -1.335      0.183      -0.630       0.120\n",
      "FTr            0.0720      0.136      0.531      0.595      -0.194       0.338\n",
      "ORB%          -0.0011      0.082     -0.013      0.990      -0.163       0.161\n",
      "DRB%          -0.0050      0.081     -0.062      0.951      -0.164       0.154\n",
      "TRB%           0.0059      0.162      0.037      0.971      -0.313       0.325\n",
      "AST%           0.0022      0.004      0.535      0.593      -0.006       0.010\n",
      "STL%           0.0259      0.049      0.532      0.595      -0.070       0.122\n",
      "BLK%           0.0386      0.022      1.788      0.074      -0.004       0.081\n",
      "TOV%          -0.0018      0.005     -0.358      0.721      -0.012       0.008\n",
      "USG%          -0.0012      0.011     -0.108      0.914      -0.023       0.021\n",
      "OWS            0.2743      0.440      0.624      0.533      -0.590       1.138\n",
      "DWS            0.3741      0.439      0.852      0.394      -0.488       1.236\n",
      "WS            -0.2689      0.441     -0.610      0.542      -1.135       0.597\n",
      "WS/48         -0.1258      1.532     -0.082      0.935      -3.136       2.884\n",
      "OBPM          -0.1573      0.465     -0.339      0.735      -1.070       0.756\n",
      "DBPM          -0.2059      0.466     -0.442      0.659      -1.122       0.710\n",
      "BPM            0.1925      0.464      0.415      0.679      -0.720       1.104\n",
      "VORP          -0.0333      0.087     -0.383      0.702      -0.204       0.137\n",
      "==============================================================================\n",
      "Omnibus:                     2854.011   Durbin-Watson:                   1.999\n",
      "Prob(Omnibus):                  0.000   Jarque-Bera (JB):               63.624\n",
      "Skew:                          -0.148   Prob(JB):                     1.53e-14\n",
      "Kurtosis:                       1.312   Cond. No.                     7.96e+04\n",
      "==============================================================================\n",
      "\n",
      "Notes:\n",
      "[1] Standard Errors assume that the covariance matrix of the errors is correctly specified.\n",
      "[2] The condition number is large, 7.96e+04. This might indicate that there are\n",
      "strong multicollinearity or other numerical problems.\n"
     ]
    }
   ],
   "source": [
    "# Add a constant term to the predictors (intercept)\n",
    "X_train_b_with_const = sm.add_constant(X_train_b)\n",
    "\n",
    "# Fit the model using OLS (Ordinary Least Squares)\n",
    "ols_model = sm.OLS(y_train_b, X_train_b_with_const).fit()\n",
    "\n",
    "# Print the summary, which includes t-values, p-values, and confidence intervals\n",
    "print(ols_model.summary())\n",
    "\n",
    "\n"
   ]
  },
  {
   "cell_type": "code",
   "execution_count": null,
   "id": "d1154e5e",
   "metadata": {},
   "outputs": [],
   "source": []
  },
  {
   "cell_type": "code",
   "execution_count": 34,
   "id": "7253b6c7",
   "metadata": {},
   "outputs": [
    {
     "name": "stdout",
     "output_type": "stream",
     "text": [
      "Logistic Regression ROC AUC: 0.6266947171575502\n",
      "Time Taken: 0.14577007293701172 seconds\n",
      "              precision    recall  f1-score   support\n",
      "\n",
      "           0       0.62      0.50      0.55        62\n",
      "           1       0.62      0.72      0.67        69\n",
      "\n",
      "    accuracy                           0.62       131\n",
      "   macro avg       0.62      0.61      0.61       131\n",
      "weighted avg       0.62      0.62      0.61       131\n",
      "\n"
     ]
    }
   ],
   "source": [
    "# Step 4: Logistic Regression\n",
    "logistic_model = LogisticRegression(max_iter=1000)\n",
    "start_time = time.time()\n",
    "logistic_model.fit(X_train_b, y_train_b)\n",
    "end_time = time.time()\n",
    "y_pred_logistic = logistic_model.predict(X_test_b)\n",
    "y_proba_logistic = logistic_model.predict_proba(X_test_b)[:, 1]\n",
    "logistic_roc_auc = roc_auc_score(y_test_b, y_proba_logistic)\n",
    "print(f\"Logistic Regression ROC AUC: {logistic_roc_auc}\")\n",
    "print(f\"Time Taken: {end_time - start_time} seconds\")\n",
    "print(classification_report(y_test_b, y_pred_logistic))\n"
   ]
  },
  {
   "cell_type": "code",
   "execution_count": null,
   "id": "735bb9ce",
   "metadata": {},
   "outputs": [],
   "source": []
  },
  {
   "cell_type": "code",
   "execution_count": 35,
   "id": "2bddedc0",
   "metadata": {},
   "outputs": [
    {
     "name": "stdout",
     "output_type": "stream",
     "text": [
      "Random Forest ROC AUC: 0.6697054698457223\n",
      "Time Taken: 0.1495661735534668 seconds\n",
      "              precision    recall  f1-score   support\n",
      "\n",
      "           0       0.62      0.52      0.56        62\n",
      "           1       0.62      0.71      0.66        69\n",
      "\n",
      "    accuracy                           0.62       131\n",
      "   macro avg       0.62      0.61      0.61       131\n",
      "weighted avg       0.62      0.62      0.61       131\n",
      "\n"
     ]
    }
   ],
   "source": [
    "# Step 5: Random Forest\n",
    "random_forest_model = RandomForestClassifier(random_state=42)\n",
    "start_time = time.time()\n",
    "random_forest_model.fit(X_train_b, y_train_b)\n",
    "end_time = time.time()\n",
    "y_pred_rf = random_forest_model.predict(X_test_b)\n",
    "y_proba_rf = random_forest_model.predict_proba(X_test_b)[:, 1]\n",
    "rf_roc_auc = roc_auc_score(y_test_b, y_proba_rf)\n",
    "print(f\"Random Forest ROC AUC: {rf_roc_auc}\")\n",
    "print(f\"Time Taken: {end_time - start_time} seconds\")\n",
    "print(classification_report(y_test_b, y_pred_rf))  # Corrected this line\n"
   ]
  },
  {
   "cell_type": "code",
   "execution_count": null,
   "id": "9526f00c",
   "metadata": {},
   "outputs": [],
   "source": []
  },
  {
   "cell_type": "code",
   "execution_count": 22,
   "id": "a82ea9a4",
   "metadata": {},
   "outputs": [
    {
     "name": "stdout",
     "output_type": "stream",
     "text": [
      "SVM ROC AUC: 0.6173445535296868\n",
      "Time Taken: 0.09527802467346191 seconds\n",
      "              precision    recall  f1-score   support\n",
      "\n",
      "           0       0.60      0.47      0.53        62\n",
      "           1       0.60      0.72      0.66        69\n",
      "\n",
      "    accuracy                           0.60       131\n",
      "   macro avg       0.60      0.60      0.59       131\n",
      "weighted avg       0.60      0.60      0.60       131\n",
      "\n"
     ]
    }
   ],
   "source": [
    "# Step 6: Support Vector Machine (SVM)\n",
    "svm_model = SVC(probability=True, random_state=42)\n",
    "start_time = time.time()\n",
    "svm_model.fit(X_train_b, y_train_b)\n",
    "end_time = time.time()\n",
    "y_pred_svm = svm_model.predict(X_test_b)\n",
    "y_proba_svm = svm_model.predict_proba(X_test_b)[:, 1]\n",
    "svm_roc_auc = roc_auc_score(y_test_b, y_proba_svm)\n",
    "print(f\"SVM ROC AUC: {svm_roc_auc}\")\n",
    "print(f\"Time Taken: {end_time - start_time} seconds\")\n",
    "print(classification_report(y_test_b, y_pred_svm))\n"
   ]
  },
  {
   "cell_type": "code",
   "execution_count": null,
   "id": "abfacc9f",
   "metadata": {},
   "outputs": [],
   "source": []
  },
  {
   "cell_type": "code",
   "execution_count": 36,
   "id": "6510f737",
   "metadata": {},
   "outputs": [
    {
     "name": "stdout",
     "output_type": "stream",
     "text": [
      "XGBoost ROC AUC: 0.6977559607293128\n",
      "Time Taken: 0.11744499206542969 seconds\n",
      "              precision    recall  f1-score   support\n",
      "\n",
      "           0       0.64      0.56      0.60        62\n",
      "           1       0.64      0.71      0.68        69\n",
      "\n",
      "    accuracy                           0.64       131\n",
      "   macro avg       0.64      0.64      0.64       131\n",
      "weighted avg       0.64      0.64      0.64       131\n",
      "\n"
     ]
    }
   ],
   "source": [
    "# Train XGBoost for Basketball Data\n",
    "xgb_model = XGBClassifier(eval_metric='logloss', random_state=42)  # Removed use_label_encoder\n",
    "start_time = time.time()\n",
    "xgb_model.fit(X_train_b, y_train_b)\n",
    "end_time = time.time()\n",
    "y_pred_xgb = xgb_model.predict(X_test_b)\n",
    "y_proba_xgb = xgb_model.predict_proba(X_test_b)[:, 1]\n",
    "xgb_roc_auc = roc_auc_score(y_test_b, y_proba_xgb)\n",
    "\n",
    "# Display results for XGBoost\n",
    "print(f\"XGBoost ROC AUC: {xgb_roc_auc}\")\n",
    "print(f\"Time Taken: {end_time - start_time} seconds\")\n",
    "print(classification_report(y_test_b, y_pred_xgb))\n",
    "\n"
   ]
  },
  {
   "cell_type": "code",
   "execution_count": null,
   "id": "94a1423e",
   "metadata": {},
   "outputs": [],
   "source": []
  },
  {
   "cell_type": "code",
   "execution_count": null,
   "id": "55a0ab53",
   "metadata": {},
   "outputs": [],
   "source": []
  },
  {
   "cell_type": "code",
   "execution_count": null,
   "id": "4bc4e7ca",
   "metadata": {},
   "outputs": [],
   "source": []
  },
  {
   "cell_type": "code",
   "execution_count": null,
   "id": "c411807c",
   "metadata": {},
   "outputs": [],
   "source": []
  },
  {
   "cell_type": "code",
   "execution_count": null,
   "id": "aeb28242",
   "metadata": {},
   "outputs": [],
   "source": []
  },
  {
   "cell_type": "code",
   "execution_count": null,
   "id": "748b3abb",
   "metadata": {},
   "outputs": [],
   "source": [
    "# Example preprocessing\n",
    "# Ensure you replace 'target_column' with the actual column name for prediction\n",
    "X = football_data.drop(columns=['target_column'])\n",
    "y = football_data['target_column']\n",
    "\n",
    "# Split into train and test sets\n",
    "X_train, X_test, y_train, y_test = train_test_split(X, y, test_size=0.2, random_state=42)\n",
    "\n",
    "# Standardize the features\n",
    "scaler = StandardScaler()\n",
    "X_train = scaler.fit_transform(X_train)\n",
    "X_test = scaler.transform(X_test)\n"
   ]
  },
  {
   "cell_type": "code",
   "execution_count": null,
   "id": "cf927879",
   "metadata": {},
   "outputs": [],
   "source": []
  },
  {
   "cell_type": "code",
   "execution_count": null,
   "id": "f978605a",
   "metadata": {},
   "outputs": [],
   "source": []
  },
  {
   "cell_type": "code",
   "execution_count": 4,
   "id": "5ee99e71",
   "metadata": {},
   "outputs": [],
   "source": [
    "# Load the football dataset\n",
    "football_data = pd.read_csv('football_data_cleaned.csv')  # Replace with the correct file path\n",
    "\n",
    "# Step 1: Create a binary classification column\n",
    "football_data['Injury_Binary'] = (football_data['n_injuries'] > 0).astype(int)\n",
    "\n",
    "# Step 2: Define features and target variable\n",
    "X_football = football_data.drop(columns=['n_injuries', 'Injury_Binary', 'Unnamed: 0'])  # Exclude irrelevant columns\n",
    "y_football = football_data['Injury_Binary']\n",
    "\n",
    "# Step 3: Split the data into training and testing sets\n",
    "X_train_f, X_test_f, y_train_f, y_test_f = train_test_split(X_football, y_football, test_size=0.2, random_state=42)\n",
    "\n"
   ]
  },
  {
   "cell_type": "code",
   "execution_count": null,
   "id": "b4b193e2",
   "metadata": {},
   "outputs": [],
   "source": []
  },
  {
   "cell_type": "code",
   "execution_count": 5,
   "id": "976ddfc2",
   "metadata": {},
   "outputs": [
    {
     "name": "stdout",
     "output_type": "stream",
     "text": [
      "                            OLS Regression Results                            \n",
      "==============================================================================\n",
      "Dep. Variable:          Injury_Binary   R-squared:                       0.277\n",
      "Model:                            OLS   Adj. R-squared:                  0.259\n",
      "Method:                 Least Squares   F-statistic:                     14.97\n",
      "Date:                Mon, 25 Nov 2024   Prob (F-statistic):           2.60e-79\n",
      "Time:                        18:03:41   Log-Likelihood:                -837.23\n",
      "No. Observations:                1521   AIC:                             1752.\n",
      "Df Residuals:                    1482   BIC:                             1960.\n",
      "Df Model:                          38                                         \n",
      "Covariance Type:            nonrobust                                         \n",
      "===============================================================================================\n",
      "                                  coef    std err          t      P>|t|      [0.025      0.975]\n",
      "-----------------------------------------------------------------------------------------------\n",
      "age                             0.1493      0.012     12.343      0.000       0.126       0.173\n",
      "games                          -0.0101      0.026     -0.394      0.694      -0.060       0.040\n",
      "minutes                        -0.0704      0.044     -1.588      0.112      -0.157       0.017\n",
      "cards_yellow                    0.0329      0.015      2.125      0.034       0.003       0.063\n",
      "cards_red                      -0.3259      0.027    -11.936      0.000      -0.379      -0.272\n",
      "goals                           0.0189      0.031      0.615      0.538      -0.041       0.079\n",
      "shots                           0.1030      0.031      3.375      0.001       0.043       0.163\n",
      "shots_free_kicks               -0.3499      0.029    -11.936      0.000      -0.407      -0.292\n",
      "passes_completed                0.2191      0.266      0.822      0.411      -0.304       0.742\n",
      "passes_total_distance          -0.0900      0.165     -0.547      0.585      -0.413       0.233\n",
      "passes_progressive_distance    -0.0184      0.071     -0.259      0.795      -0.157       0.121\n",
      "passes_short                   -0.0213      0.107     -0.200      0.841      -0.231       0.188\n",
      "passes_medium                   0.0019      0.092      0.021      0.983      -0.178       0.182\n",
      "passes_long                    -0.0993      0.068     -1.459      0.145      -0.233       0.034\n",
      "passes_dead                     0.0290      0.044      0.652      0.514      -0.058       0.116\n",
      "passes_free_kicks               0.0322      0.031      1.049      0.294      -0.028       0.092\n",
      "through_balls                   0.0667      0.027      2.466      0.014       0.014       0.120\n",
      "passes_switches                 0.0094      0.024      0.400      0.689      -0.037       0.056\n",
      "crosses                        -0.0412      0.040     -1.029      0.304      -0.120       0.037\n",
      "corner_kicks                    0.2408      0.148      1.623      0.105      -0.050       0.532\n",
      "tackles                        -0.0060      0.056     -0.108      0.914      -0.115       0.103\n",
      "tackles_won                     0.0057      0.042      0.134      0.894      -0.078       0.089\n",
      "dribble_tackles                 0.0300      0.034      0.878      0.380      -0.037       0.097\n",
      "dribbled_past                  -0.0362      0.021     -1.727      0.084      -0.077       0.005\n",
      "blocks                         -0.0087      0.022     -0.387      0.699      -0.053       0.035\n",
      "interceptions                  -0.0060      0.025     -0.242      0.809      -0.054       0.042\n",
      "clearances                     -0.0605      0.034     -1.768      0.077      -0.128       0.007\n",
      "errors                         -0.4488      0.038    -11.936      0.000      -0.523      -0.375\n",
      "dribbles                        0.0117      0.029      0.404      0.686      -0.045       0.068\n",
      "miscontrols                    -0.0090      0.033     -0.273      0.785      -0.074       0.056\n",
      "dispossessed                   -0.0094      0.029     -0.321      0.748      -0.067       0.048\n",
      "passes_received                 0.0061      0.127      0.048      0.961      -0.243       0.255\n",
      "fouls                          -0.0185      0.022     -0.854      0.393      -0.061       0.024\n",
      "fouled                         -0.0402      0.021     -1.906      0.057      -0.082       0.001\n",
      "ball_recoveries                 0.0145      0.039      0.377      0.706      -0.061       0.090\n",
      "aerials_won                     0.0203      0.029      0.702      0.483      -0.036       0.077\n",
      "aerials_lost                   -0.0022      0.025     -0.087      0.931      -0.052       0.047\n",
      "n_severe_injuries               0.1812      0.014     13.064      0.000       0.154       0.208\n",
      "currently_injured              -0.2785      0.023    -11.936      0.000      -0.324      -0.233\n",
      "position_DF                     0.0092      0.020      0.449      0.653      -0.031       0.049\n",
      "position_FW                    -0.0098      0.017     -0.574      0.566      -0.043       0.024\n",
      "position_GK                    -0.3186      0.027    -11.936      0.000      -0.371      -0.266\n",
      "position_MF                    -0.0296      0.017     -1.780      0.075      -0.062       0.003\n",
      "==============================================================================\n",
      "Omnibus:                      217.014   Durbin-Watson:                   1.925\n",
      "Prob(Omnibus):                  0.000   Jarque-Bera (JB):               64.928\n",
      "Skew:                           0.229   Prob(JB):                     7.96e-15\n",
      "Kurtosis:                       2.098   Cond. No.                     1.44e+16\n",
      "==============================================================================\n",
      "\n",
      "Notes:\n",
      "[1] Standard Errors assume that the covariance matrix of the errors is correctly specified.\n",
      "[2] The smallest eigenvalue is 9.66e-29. This might indicate that there are\n",
      "strong multicollinearity problems or that the design matrix is singular.\n"
     ]
    }
   ],
   "source": [
    "\n",
    "# Step 1: Add a constant term to the predictors (intercept)\n",
    "X_train_f_with_const = sm.add_constant(X_train_f)\n",
    "\n",
    "# Step 2: Fit the model using OLS\n",
    "ols_model_football = sm.OLS(y_train_f, X_train_f_with_const).fit()\n",
    "\n",
    "# Step 3: Print the summary\n",
    "print(ols_model_football.summary())\n"
   ]
  },
  {
   "cell_type": "code",
   "execution_count": null,
   "id": "17be0be0",
   "metadata": {},
   "outputs": [],
   "source": []
  },
  {
   "cell_type": "code",
   "execution_count": 12,
   "id": "be4397c9",
   "metadata": {},
   "outputs": [
    {
     "name": "stdout",
     "output_type": "stream",
     "text": [
      "Logistic Regression ROC AUC: 0.84\n",
      "Time Taken: 0.04 seconds\n",
      "              precision    recall  f1-score   support\n",
      "\n",
      "           0       0.76      0.80      0.78       224\n",
      "           1       0.69      0.65      0.67       157\n",
      "\n",
      "    accuracy                           0.74       381\n",
      "   macro avg       0.73      0.72      0.73       381\n",
      "weighted avg       0.74      0.74      0.74       381\n",
      "\n"
     ]
    }
   ],
   "source": [
    "# Logistic Regression\n",
    "start_time = time.time()\n",
    "log_reg_model = LogisticRegression(max_iter=1000, random_state=42)\n",
    "log_reg_model.fit(X_train_f, y_train_f)\n",
    "y_pred_logistic = log_reg_model.predict(X_test_f)\n",
    "y_pred_proba_logistic = log_reg_model.predict_proba(X_test_f)[:, 1]\n",
    "logistic_roc_auc = roc_auc_score(y_test_f, y_pred_proba_logistic)\n",
    "end_time = time.time()\n",
    "print(f\"Logistic Regression ROC AUC: {logistic_roc_auc:.2f}\")\n",
    "print(f\"Time Taken: {end_time - start_time:.2f} seconds\")\n",
    "print(classification_report(y_test_f, y_pred_logistic))\n",
    "\n",
    "\n"
   ]
  },
  {
   "cell_type": "code",
   "execution_count": null,
   "id": "d7bcdb28",
   "metadata": {},
   "outputs": [],
   "source": []
  },
  {
   "cell_type": "code",
   "execution_count": 13,
   "id": "91c5d749",
   "metadata": {},
   "outputs": [
    {
     "name": "stdout",
     "output_type": "stream",
     "text": [
      "\n",
      "SVM ROC AUC: 0.84\n",
      "Time Taken: 0.68 seconds\n",
      "              precision    recall  f1-score   support\n",
      "\n",
      "           0       0.77      0.80      0.79       224\n",
      "           1       0.70      0.67      0.68       157\n",
      "\n",
      "    accuracy                           0.75       381\n",
      "   macro avg       0.74      0.73      0.74       381\n",
      "weighted avg       0.74      0.75      0.74       381\n",
      "\n"
     ]
    }
   ],
   "source": [
    "# Support Vector Machine (SVM)\n",
    "start_time = time.time()\n",
    "svm_model = SVC(kernel='linear', probability=True, random_state=42)\n",
    "svm_model.fit(X_train_f, y_train_f)\n",
    "y_pred_svm = svm_model.predict(X_test_f)\n",
    "y_pred_proba_svm = svm_model.predict_proba(X_test_f)[:, 1]\n",
    "svm_roc_auc = roc_auc_score(y_test_f, y_pred_proba_svm)\n",
    "end_time = time.time()\n",
    "print(f\"\\nSVM ROC AUC: {svm_roc_auc:.2f}\")\n",
    "print(f\"Time Taken: {end_time - start_time:.2f} seconds\")\n",
    "print(classification_report(y_test_f, y_pred_svm))\n"
   ]
  },
  {
   "cell_type": "code",
   "execution_count": null,
   "id": "ce6c1443",
   "metadata": {},
   "outputs": [],
   "source": []
  },
  {
   "cell_type": "code",
   "execution_count": 14,
   "id": "26b3a81e",
   "metadata": {},
   "outputs": [
    {
     "name": "stdout",
     "output_type": "stream",
     "text": [
      "\n",
      "Random Forest ROC AUC: 0.83\n",
      "Time Taken: 0.38 seconds\n",
      "              precision    recall  f1-score   support\n",
      "\n",
      "           0       0.74      0.82      0.78       224\n",
      "           1       0.70      0.60      0.64       157\n",
      "\n",
      "    accuracy                           0.73       381\n",
      "   macro avg       0.72      0.71      0.71       381\n",
      "weighted avg       0.72      0.73      0.72       381\n",
      "\n"
     ]
    }
   ],
   "source": [
    "# Random Forest\n",
    "start_time = time.time()\n",
    "rf_model = RandomForestClassifier(n_estimators=100, random_state=42)\n",
    "rf_model.fit(X_train_f, y_train_f)\n",
    "y_pred_rf = rf_model.predict(X_test_f)\n",
    "y_pred_proba_rf = rf_model.predict_proba(X_test_f)[:, 1]\n",
    "rf_roc_auc = roc_auc_score(y_test_f, y_pred_proba_rf)\n",
    "end_time = time.time()\n",
    "print(f\"\\nRandom Forest ROC AUC: {rf_roc_auc:.2f}\")\n",
    "print(f\"Time Taken: {end_time - start_time:.2f} seconds\")\n",
    "print(classification_report(y_test_f, y_pred_rf))\n"
   ]
  },
  {
   "cell_type": "code",
   "execution_count": null,
   "id": "b08eefeb",
   "metadata": {},
   "outputs": [],
   "source": []
  },
  {
   "cell_type": "code",
   "execution_count": 15,
   "id": "f3283723",
   "metadata": {},
   "outputs": [
    {
     "name": "stderr",
     "output_type": "stream",
     "text": [
      "/Users/mengfanlong/anaconda3/lib/python3.11/site-packages/xgboost/sklearn.py:1395: UserWarning: `use_label_encoder` is deprecated in 1.7.0.\n",
      "  warnings.warn(\"`use_label_encoder` is deprecated in 1.7.0.\")\n"
     ]
    },
    {
     "name": "stdout",
     "output_type": "stream",
     "text": [
      "\n",
      "XGBoost ROC AUC: 0.81\n",
      "Time Taken: 0.26 seconds\n",
      "              precision    recall  f1-score   support\n",
      "\n",
      "           0       0.74      0.78      0.76       224\n",
      "           1       0.66      0.61      0.64       157\n",
      "\n",
      "    accuracy                           0.71       381\n",
      "   macro avg       0.70      0.70      0.70       381\n",
      "weighted avg       0.71      0.71      0.71       381\n",
      "\n"
     ]
    }
   ],
   "source": [
    "# XGBoost\n",
    "start_time = time.time()\n",
    "xgb_model = XGBClassifier(use_label_encoder=False, eval_metric='logloss', random_state=42)\n",
    "xgb_model.fit(X_train_f, y_train_f)\n",
    "y_pred_xgb = xgb_model.predict(X_test_f)\n",
    "y_pred_proba_xgb = xgb_model.predict_proba(X_test_f)[:, 1]\n",
    "xgb_roc_auc = roc_auc_score(y_test_f, y_pred_proba_xgb)\n",
    "end_time = time.time()\n",
    "print(f\"\\nXGBoost ROC AUC: {xgb_roc_auc:.2f}\")\n",
    "print(f\"Time Taken: {end_time - start_time:.2f} seconds\")\n",
    "print(classification_report(y_test_f, y_pred_xgb))"
   ]
  },
  {
   "cell_type": "code",
   "execution_count": null,
   "id": "97720208",
   "metadata": {},
   "outputs": [],
   "source": []
  }
 ],
 "metadata": {
  "kernelspec": {
   "display_name": "Python 3 (ipykernel)",
   "language": "python",
   "name": "python3"
  },
  "language_info": {
   "codemirror_mode": {
    "name": "ipython",
    "version": 3
   },
   "file_extension": ".py",
   "mimetype": "text/x-python",
   "name": "python",
   "nbconvert_exporter": "python",
   "pygments_lexer": "ipython3",
   "version": "3.11.3"
  }
 },
 "nbformat": 4,
 "nbformat_minor": 5
}
